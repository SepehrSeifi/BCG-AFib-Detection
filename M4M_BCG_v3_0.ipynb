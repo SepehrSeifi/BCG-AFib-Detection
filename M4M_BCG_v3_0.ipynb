{
  "nbformat": 4,
  "nbformat_minor": 0,
  "metadata": {
    "colab": {
      "provenance": [],
      "collapsed_sections": [
        "IFcw1xIOWeMi"
      ],
      "toc_visible": true,
      "authorship_tag": "ABX9TyOuqlQt7f/uJXUELb/IGV6m"
    },
    "kernelspec": {
      "name": "python3",
      "display_name": "Python 3"
    },
    "language_info": {
      "name": "python"
    }
  },
  "cells": [
    {
      "cell_type": "markdown",
      "source": [
        "# Author: Sepehr SeifiZarei \\\\\n",
        "# Date: 31/01/2023"
      ],
      "metadata": {
        "id": "zqoa78GQz43W"
      }
    },
    {
      "cell_type": "markdown",
      "source": [
        "# Initializing"
      ],
      "metadata": {
        "id": "dfENvFTxwPR8"
      }
    },
    {
      "cell_type": "markdown",
      "source": [
        "## Installing Packages"
      ],
      "metadata": {
        "id": "r5TqhYqVwRT9"
      }
    },
    {
      "cell_type": "code",
      "execution_count": 1,
      "metadata": {
        "colab": {
          "base_uri": "https://localhost:8080/"
        },
        "id": "CoKVrieRwDq6",
        "outputId": "2c7e189a-4e36-4495-d894-c5ca71b8678a"
      },
      "outputs": [
        {
          "output_type": "stream",
          "name": "stdout",
          "text": [
            "Looking in indexes: https://pypi.org/simple, https://us-python.pkg.dev/colab-wheels/public/simple/\n",
            "Collecting mne\n",
            "  Downloading mne-1.3.0-py3-none-any.whl (7.6 MB)\n",
            "\u001b[2K     \u001b[90m━━━━━━━━━━━━━━━━━━━━━━━━━━━━━━━━━━━━━━━━\u001b[0m \u001b[32m7.6/7.6 MB\u001b[0m \u001b[31m29.0 MB/s\u001b[0m eta \u001b[36m0:00:00\u001b[0m\n",
            "\u001b[?25hRequirement already satisfied: pooch>=1.5 in /usr/local/lib/python3.8/dist-packages (from mne) (1.6.0)\n",
            "Requirement already satisfied: decorator in /usr/local/lib/python3.8/dist-packages (from mne) (4.4.2)\n",
            "Requirement already satisfied: jinja2 in /usr/local/lib/python3.8/dist-packages (from mne) (2.11.3)\n",
            "Requirement already satisfied: packaging in /usr/local/lib/python3.8/dist-packages (from mne) (21.3)\n",
            "Requirement already satisfied: scipy>=1.1.0 in /usr/local/lib/python3.8/dist-packages (from mne) (1.7.3)\n",
            "Requirement already satisfied: tqdm in /usr/local/lib/python3.8/dist-packages (from mne) (4.64.1)\n",
            "Requirement already satisfied: numpy>=1.15.4 in /usr/local/lib/python3.8/dist-packages (from mne) (1.21.6)\n",
            "Requirement already satisfied: matplotlib in /usr/local/lib/python3.8/dist-packages (from mne) (3.2.2)\n",
            "Requirement already satisfied: appdirs>=1.3.0 in /usr/local/lib/python3.8/dist-packages (from pooch>=1.5->mne) (1.4.4)\n",
            "Requirement already satisfied: requests>=2.19.0 in /usr/local/lib/python3.8/dist-packages (from pooch>=1.5->mne) (2.25.1)\n",
            "Requirement already satisfied: pyparsing!=3.0.5,>=2.0.2 in /usr/local/lib/python3.8/dist-packages (from packaging->mne) (3.0.9)\n",
            "Requirement already satisfied: MarkupSafe>=0.23 in /usr/local/lib/python3.8/dist-packages (from jinja2->mne) (2.0.1)\n",
            "Requirement already satisfied: python-dateutil>=2.1 in /usr/local/lib/python3.8/dist-packages (from matplotlib->mne) (2.8.2)\n",
            "Requirement already satisfied: kiwisolver>=1.0.1 in /usr/local/lib/python3.8/dist-packages (from matplotlib->mne) (1.4.4)\n",
            "Requirement already satisfied: cycler>=0.10 in /usr/local/lib/python3.8/dist-packages (from matplotlib->mne) (0.11.0)\n",
            "Requirement already satisfied: six>=1.5 in /usr/local/lib/python3.8/dist-packages (from python-dateutil>=2.1->matplotlib->mne) (1.15.0)\n",
            "Requirement already satisfied: urllib3<1.27,>=1.21.1 in /usr/local/lib/python3.8/dist-packages (from requests>=2.19.0->pooch>=1.5->mne) (1.24.3)\n",
            "Requirement already satisfied: certifi>=2017.4.17 in /usr/local/lib/python3.8/dist-packages (from requests>=2.19.0->pooch>=1.5->mne) (2022.12.7)\n",
            "Requirement already satisfied: chardet<5,>=3.0.2 in /usr/local/lib/python3.8/dist-packages (from requests>=2.19.0->pooch>=1.5->mne) (4.0.0)\n",
            "Requirement already satisfied: idna<3,>=2.5 in /usr/local/lib/python3.8/dist-packages (from requests>=2.19.0->pooch>=1.5->mne) (2.10)\n",
            "Installing collected packages: mne\n",
            "Successfully installed mne-1.3.0\n",
            "Looking in indexes: https://pypi.org/simple, https://us-python.pkg.dev/colab-wheels/public/simple/\n",
            "Collecting neurokit2\n",
            "  Downloading neurokit2-0.2.2-py2.py3-none-any.whl (1.2 MB)\n",
            "\u001b[2K     \u001b[90m━━━━━━━━━━━━━━━━━━━━━━━━━━━━━━━━━━━━━━━━\u001b[0m \u001b[32m1.2/1.2 MB\u001b[0m \u001b[31m7.7 MB/s\u001b[0m eta \u001b[36m0:00:00\u001b[0m\n",
            "\u001b[?25hRequirement already satisfied: scikit-learn>=1.0.0 in /usr/local/lib/python3.8/dist-packages (from neurokit2) (1.0.2)\n",
            "Requirement already satisfied: matplotlib in /usr/local/lib/python3.8/dist-packages (from neurokit2) (3.2.2)\n",
            "Requirement already satisfied: numpy in /usr/local/lib/python3.8/dist-packages (from neurokit2) (1.21.6)\n",
            "Requirement already satisfied: pandas in /usr/local/lib/python3.8/dist-packages (from neurokit2) (1.3.5)\n",
            "Requirement already satisfied: scipy in /usr/local/lib/python3.8/dist-packages (from neurokit2) (1.7.3)\n",
            "Requirement already satisfied: joblib>=0.11 in /usr/local/lib/python3.8/dist-packages (from scikit-learn>=1.0.0->neurokit2) (1.2.0)\n",
            "Requirement already satisfied: threadpoolctl>=2.0.0 in /usr/local/lib/python3.8/dist-packages (from scikit-learn>=1.0.0->neurokit2) (3.1.0)\n",
            "Requirement already satisfied: pyparsing!=2.0.4,!=2.1.2,!=2.1.6,>=2.0.1 in /usr/local/lib/python3.8/dist-packages (from matplotlib->neurokit2) (3.0.9)\n",
            "Requirement already satisfied: kiwisolver>=1.0.1 in /usr/local/lib/python3.8/dist-packages (from matplotlib->neurokit2) (1.4.4)\n",
            "Requirement already satisfied: cycler>=0.10 in /usr/local/lib/python3.8/dist-packages (from matplotlib->neurokit2) (0.11.0)\n",
            "Requirement already satisfied: python-dateutil>=2.1 in /usr/local/lib/python3.8/dist-packages (from matplotlib->neurokit2) (2.8.2)\n",
            "Requirement already satisfied: pytz>=2017.3 in /usr/local/lib/python3.8/dist-packages (from pandas->neurokit2) (2022.7)\n",
            "Requirement already satisfied: six>=1.5 in /usr/local/lib/python3.8/dist-packages (from python-dateutil>=2.1->matplotlib->neurokit2) (1.15.0)\n",
            "Installing collected packages: neurokit2\n",
            "Successfully installed neurokit2-0.2.2\n",
            "Looking in indexes: https://pypi.org/simple, https://us-python.pkg.dev/colab-wheels/public/simple/\n",
            "Requirement already satisfied: PyWavelets in /usr/local/lib/python3.8/dist-packages (1.4.1)\n",
            "Requirement already satisfied: numpy>=1.17.3 in /usr/local/lib/python3.8/dist-packages (from PyWavelets) (1.21.6)\n",
            "Looking in indexes: https://pypi.org/simple, https://us-python.pkg.dev/colab-wheels/public/simple/\n",
            "Collecting tensorflow-addons\n",
            "  Downloading tensorflow_addons-0.19.0-cp38-cp38-manylinux_2_17_x86_64.manylinux2014_x86_64.whl (1.1 MB)\n",
            "\u001b[2K     \u001b[90m━━━━━━━━━━━━━━━━━━━━━━━━━━━━━━━━━━━━━━━━\u001b[0m \u001b[32m1.1/1.1 MB\u001b[0m \u001b[31m14.6 MB/s\u001b[0m eta \u001b[36m0:00:00\u001b[0m\n",
            "\u001b[?25hRequirement already satisfied: typeguard>=2.7 in /usr/local/lib/python3.8/dist-packages (from tensorflow-addons) (2.7.1)\n",
            "Requirement already satisfied: packaging in /usr/local/lib/python3.8/dist-packages (from tensorflow-addons) (21.3)\n",
            "Requirement already satisfied: pyparsing!=3.0.5,>=2.0.2 in /usr/local/lib/python3.8/dist-packages (from packaging->tensorflow-addons) (3.0.9)\n",
            "Installing collected packages: tensorflow-addons\n",
            "Successfully installed tensorflow-addons-0.19.0\n",
            "Looking in indexes: https://pypi.org/simple, https://us-python.pkg.dev/colab-wheels/public/simple/\n",
            "Collecting timm\n",
            "  Downloading timm-0.6.12-py3-none-any.whl (549 kB)\n",
            "\u001b[2K     \u001b[90m━━━━━━━━━━━━━━━━━━━━━━━━━━━━━━━━━━━━━━━\u001b[0m \u001b[32m549.1/549.1 KB\u001b[0m \u001b[31m9.7 MB/s\u001b[0m eta \u001b[36m0:00:00\u001b[0m\n",
            "\u001b[?25hRequirement already satisfied: torch>=1.7 in /usr/local/lib/python3.8/dist-packages (from timm) (1.13.1+cu116)\n",
            "Collecting huggingface-hub\n",
            "  Downloading huggingface_hub-0.12.0-py3-none-any.whl (190 kB)\n",
            "\u001b[2K     \u001b[90m━━━━━━━━━━━━━━━━━━━━━━━━━━━━━━━━━━━━━━\u001b[0m \u001b[32m190.3/190.3 KB\u001b[0m \u001b[31m19.4 MB/s\u001b[0m eta \u001b[36m0:00:00\u001b[0m\n",
            "\u001b[?25hRequirement already satisfied: pyyaml in /usr/local/lib/python3.8/dist-packages (from timm) (6.0)\n",
            "Requirement already satisfied: torchvision in /usr/local/lib/python3.8/dist-packages (from timm) (0.14.1+cu116)\n",
            "Requirement already satisfied: typing-extensions in /usr/local/lib/python3.8/dist-packages (from torch>=1.7->timm) (4.4.0)\n",
            "Requirement already satisfied: filelock in /usr/local/lib/python3.8/dist-packages (from huggingface-hub->timm) (3.9.0)\n",
            "Requirement already satisfied: tqdm>=4.42.1 in /usr/local/lib/python3.8/dist-packages (from huggingface-hub->timm) (4.64.1)\n",
            "Requirement already satisfied: packaging>=20.9 in /usr/local/lib/python3.8/dist-packages (from huggingface-hub->timm) (21.3)\n",
            "Requirement already satisfied: requests in /usr/local/lib/python3.8/dist-packages (from huggingface-hub->timm) (2.25.1)\n",
            "Requirement already satisfied: numpy in /usr/local/lib/python3.8/dist-packages (from torchvision->timm) (1.21.6)\n",
            "Requirement already satisfied: pillow!=8.3.*,>=5.3.0 in /usr/local/lib/python3.8/dist-packages (from torchvision->timm) (7.1.2)\n",
            "Requirement already satisfied: pyparsing!=3.0.5,>=2.0.2 in /usr/local/lib/python3.8/dist-packages (from packaging>=20.9->huggingface-hub->timm) (3.0.9)\n",
            "Requirement already satisfied: urllib3<1.27,>=1.21.1 in /usr/local/lib/python3.8/dist-packages (from requests->huggingface-hub->timm) (1.24.3)\n",
            "Requirement already satisfied: idna<3,>=2.5 in /usr/local/lib/python3.8/dist-packages (from requests->huggingface-hub->timm) (2.10)\n",
            "Requirement already satisfied: chardet<5,>=3.0.2 in /usr/local/lib/python3.8/dist-packages (from requests->huggingface-hub->timm) (4.0.0)\n",
            "Requirement already satisfied: certifi>=2017.4.17 in /usr/local/lib/python3.8/dist-packages (from requests->huggingface-hub->timm) (2022.12.7)\n",
            "Installing collected packages: huggingface-hub, timm\n",
            "Successfully installed huggingface-hub-0.12.0 timm-0.6.12\n"
          ]
        }
      ],
      "source": [
        "!pip install mne\n",
        "!pip install neurokit2\n",
        "!pip install PyWavelets\n",
        "!pip install tensorflow-addons\n",
        "!pip install timm"
      ]
    },
    {
      "cell_type": "markdown",
      "source": [
        "## Mounting Google Drive"
      ],
      "metadata": {
        "id": "nNVs5DyjwUPC"
      }
    },
    {
      "cell_type": "code",
      "source": [
        "# Mounting Google Drive\n",
        "from google.colab import drive\n",
        "drive.mount('/content/drive', force_remount=True)"
      ],
      "metadata": {
        "colab": {
          "base_uri": "https://localhost:8080/"
        },
        "id": "AX0T-oYzwVZi",
        "outputId": "577764eb-e6fb-451b-ec7c-5fe103625a6d"
      },
      "execution_count": 2,
      "outputs": [
        {
          "output_type": "stream",
          "name": "stdout",
          "text": [
            "Mounted at /content/drive\n"
          ]
        }
      ]
    },
    {
      "cell_type": "code",
      "source": [
        "# Changing Current Directory to Dataset Folder Path\n",
        "import os  \n",
        "path = '/content/drive/MyDrive/Work/UTU Work/TYKS_Phase1/'\n",
        "os.chdir(path) \n",
        "print('[INFO] Current Directory is:', os.getcwd())"
      ],
      "metadata": {
        "colab": {
          "base_uri": "https://localhost:8080/"
        },
        "id": "HMgHFxK9wXLl",
        "outputId": "7133a671-eb65-4cce-b91a-953520b64630"
      },
      "execution_count": 3,
      "outputs": [
        {
          "output_type": "stream",
          "name": "stdout",
          "text": [
            "[INFO] Current Directory is: /content/drive/MyDrive/Work/UTU Work/TYKS_Phase1\n"
          ]
        }
      ]
    },
    {
      "cell_type": "markdown",
      "source": [
        "## Functions"
      ],
      "metadata": {
        "id": "GfjDBu7Dw7zA"
      }
    },
    {
      "cell_type": "code",
      "source": [
        "from src.functions.bcg_afib_detection import *\n",
        "from src.functions.basics import *\n",
        "from src.functions.bcg_processing import *\n",
        "from src.functions.preprocessing import *\n",
        "from src.functions.ecg_afib_detection import *"
      ],
      "metadata": {
        "id": "Xfv5ommDwrH8"
      },
      "execution_count": 4,
      "outputs": []
    },
    {
      "cell_type": "code",
      "source": [
        "import pandas as pd\n",
        "import numpy as np\n",
        "import warnings\n",
        "import os  \n",
        "from matplotlib import pyplot as plt\n",
        "import neurokit2 as nk\n",
        "import pylab\n",
        "import tensorflow as tf\n",
        "import tensorflow_addons as tfa \n",
        "from keras.callbacks import ModelCheckpoint\n",
        "from sklearn import metrics, preprocessing\n",
        "from sklearn.model_selection import train_test_split\n",
        "\n",
        "warnings.filterwarnings(\"ignore\")"
      ],
      "metadata": {
        "id": "VB22jmZjEPbL"
      },
      "execution_count": 5,
      "outputs": []
    },
    {
      "cell_type": "markdown",
      "source": [
        "# Importing Data"
      ],
      "metadata": {
        "id": "4R22p0xaxOdI"
      }
    },
    {
      "cell_type": "markdown",
      "source": [
        "## Loading and extracting synced ECG and BCG signals"
      ],
      "metadata": {
        "id": "UDkVWOgjxSFe"
      }
    },
    {
      "cell_type": "code",
      "source": [
        "#loading csv files\n",
        "csv_paths, subjects_id = finding_files_path(path=path, suffix='csv', containing_word='merged', find_subject=True, verbose=True)\n",
        "\n",
        "phase1_dict = dict()\n",
        "last_point = 90\n",
        "for count, j in enumerate(csv_paths[last_point:]):\n",
        "    try:\n",
        "        temp_dict = dict()\n",
        "        print('subjects: ', subjects_id[count+last_point])\n",
        "        df_iter = pd.read_csv(j, chunksize=5900, iterator=True)\n",
        "        time_stamps = []\n",
        "        ecg_sig = []\n",
        "        bcg_sig_hi = []\n",
        "        bcg_sig_low = []\n",
        "\n",
        "        for iter_num, chunk in enumerate(df_iter, 1):\n",
        "            if iter_num%500 == 0 :\n",
        "                print(f'Processing iteration {iter_num}')\n",
        "            #end if\n",
        "\n",
        "            time_stamps.append(np.array(chunk['Unnamed: 0']))\n",
        "\n",
        "            # ecg_sig.append(np.array(chunk['ECG'].interpolate(method='polynomial', order=3)))\n",
        "            df = pd.DataFrame({'time_stamps': np.array(chunk['Unnamed: 0']), 'ECG': np.array(chunk['ECG'])})\n",
        "            ecg_sig.append([np.array(df.dropna())])\n",
        "\n",
        "            df = pd.DataFrame({'time_stamps': np.array(chunk['Unnamed: 0']), 'BCG_hi': np.array(chunk['rawdata_edf_bcg_hi_band'])})\n",
        "            bcg_sig_hi.append([np.array(df.dropna())])\n",
        "\n",
        "            df = pd.DataFrame({'time_stamps': np.array(chunk['Unnamed: 0']), 'BCG_low': np.array(chunk['rawdata_edf_bcg_lo_band'])})\n",
        "            bcg_sig_low.append([np.array(df.dropna())])\n",
        "        #end for\n",
        "        print(f'Processing iteration {iter_num}')\n",
        "\n",
        "        temp_dict[subjects_id[count+last_point]] = {'time_stamps': time_stamps, 'ECG': ecg_sig, 'BCG_hi': bcg_sig_hi, 'BCG_low': bcg_sig_low}\n",
        "        phase1_clean_dict = clean_signal(temp_dict)\n",
        "        print(phase1_clean_dict.keys())\n",
        "        phase1_dict[subjects_id[count+last_point]] = phase1_clean_dict[list(phase1_clean_dict.keys())[0]]\n",
        "\n",
        "        # Saveing Variables in a File\n",
        "        import pickle\n",
        "\n",
        "        # Saving the objects:\n",
        "        save_name = 'phase1_dict_'+str(count+last_point)+'.pkl'\n",
        "        with open(save_name, 'wb',) as f:  # Python 3: open(..., 'wb')\n",
        "            pickle.dump([phase1_dict], f,) \n",
        "    except:\n",
        "        print('something went wrong in subject',subjects_id[count+last_point])\n",
        "#end for\n",
        "\n",
        "# print(chunk.keys())"
      ],
      "metadata": {
        "id": "bxLbSKYZxcT0"
      },
      "execution_count": null,
      "outputs": []
    },
    {
      "cell_type": "markdown",
      "source": [
        "## Visualizing"
      ],
      "metadata": {
        "id": "NhYucUJJEeLH"
      }
    },
    {
      "cell_type": "code",
      "source": [
        "subject = subjects_id[1]\n",
        "i=670\n",
        "start_point = []\n",
        "end_point = []\n",
        "\n",
        "\n",
        "ecg = np.array(phase1_dict[subject]['ECG'][i][0])\n",
        "bcg_hi = np.array(phase1_dict[subject]['BCG_hi'][i][0])\n",
        "bcg_low = np.array(phase1_dict[subject]['BCG_low'][i][0])\n",
        "print('ECG len:', len(ecg), 'BCH hi len:', len(bcg_hi), 'BCH low len:', len(bcg_low))\n",
        "print('time range ', np.array(phase1_dict[subject]['time_stamps'][i][0]),'-',np.array(phase1_dict[subject]['time_stamps'][i][-1]))\n",
        "\n",
        "fig, axs = plt.subplots(nrows=1, ncols=1, figsize=(30, 16))\n",
        "plt.title('Subject ' + subject + ': ')\n",
        "plt.plot(ecg[:,0], ecg[:,1], label='ECG')\n",
        "plt.plot(bcg_hi[:,0], bcg_hi[:,1]-400, label='BCG hi')\n",
        "plt.plot(bcg_low[:,0], bcg_low[:,1]+400, label='BCG low')\n",
        "\n",
        "sig = bcg_low\n",
        "if len(sig)!=0:\n",
        "\n",
        "    start_point = finding_start_points(sig[:,1])\n",
        "    end_point = finding_end_points(sig[:,1])\n",
        "\n",
        "    if len(start_point)!=0:\n",
        "        for j in range(len(start_point)):\n",
        "            plt.vlines(sig[start_point[j],0],-500,500, linestyles='dashed', colors='green', label='Start')\n",
        "        #end for\n",
        "    else:\n",
        "        ecg_bcg_start_diff = ecg[0,0] - sig[0,0]\n",
        "        # print(ecg_bcg_start_diff)\n",
        "        if ecg_bcg_start_diff<-0.032:\n",
        "            start_point.append(0)\n",
        "            plt.vlines(sig[start_point[-1],0],-500,500, linestyles='dashed', colors='green', label='Start')\n",
        "        elif np.std(sig[:,1])!=0:\n",
        "            start_point.append(0)\n",
        "            plt.vlines(sig[start_point[-1],0],-500,500, linestyles='dashed', colors='green', label='Start')\n",
        "        #end if\n",
        "    #end if\n",
        "\n",
        "    if len(end_point)!=0:\n",
        "        for j in range(len(end_point)):\n",
        "            plt.vlines(sig[end_point[j],0],-500,500, linestyles='dashed', colors='red', label='End')\n",
        "        #end for\n",
        "    else:\n",
        "        ecg_bcg_start_diff = ecg[-1,0] - sig[-1,0]\n",
        "        # print(ecg_bcg_start_diff)\n",
        "        if ecg_bcg_start_diff>0.032:\n",
        "            end_point.append(-1)\n",
        "            plt.vlines(sig[end_point[-1],0],-500,500, linestyles='dashed', colors='red', label='End')\n",
        "        elif np.std(sig[:,1])!=0:\n",
        "            end_point.append(-1)\n",
        "            plt.vlines(sig[end_point[-1],0],-500,500, linestyles='dashed', colors='red', label='End')\n",
        "        #end if\n",
        "    #end if\n",
        "#end if\n",
        "\n",
        "pylab.gca().xaxis.set_major_formatter(pylab.mpl.ticker.StrMethodFormatter('{x:,.0f}'))\n",
        "plt.legend()\n",
        "\n",
        "print('start points: ', start_point)\n",
        "print('end points: ', end_point)"
      ],
      "metadata": {
        "id": "MomFVxCCEfsF"
      },
      "execution_count": null,
      "outputs": []
    },
    {
      "cell_type": "markdown",
      "source": [
        "## Merging all data together"
      ],
      "metadata": {
        "id": "yAnPaBTDFMiu"
      }
    },
    {
      "cell_type": "code",
      "source": [
        "# Changing Current Directory to Dataset Folder Path\n",
        "\n",
        "path = '/content/drive/MyDrive/Work/UTU Work/TYKS_Phase1/Saved Loaded Dataset/'\n",
        "\n",
        "saved_dataset_paths = finding_files_path(path=path, suffix='pkl', containing_word='dict', find_subject=False, verbose=True)\n",
        "\n",
        "print(saved_dataset_paths)"
      ],
      "metadata": {
        "id": "gf_gjJIjFOOd"
      },
      "execution_count": null,
      "outputs": []
    },
    {
      "cell_type": "code",
      "source": [
        "phase1_clean_dict = load_variables(saved_dataset_paths[0])\n",
        "phase1_clean_dict = phase1_clean_dict[0]\n",
        "print(phase1_clean_dict.keys())\n",
        "\n",
        "bcg_len=[]\n",
        "ecg_len=[]\n",
        "for subject in phase1_clean_dict.keys():\n",
        "    for i in range(len(phase1_clean_dict[subject]['ECG'])):\n",
        "            print(len(phase1_clean_dict[subject]['BCG_low'][i]))\n",
        "            print(len(phase1_clean_dict[subject]['ECG'][i]))\n",
        "            bcg_len.append(len(phase1_clean_dict[subject]['BCG_low'][i]))\n",
        "            ecg_len.append(len(phase1_clean_dict[subject]['ECG'][i]))\n",
        "    #end for\n",
        "#end for\n",
        "\n",
        "ecg_len_thres = int(np.median(ecg_len))\n",
        "bcg_len_thres = int(np.median(bcg_len))\n",
        "\n",
        "print('ECG segment selected Length:', ecg_len_thres)\n",
        "print('BCG segment selected Length:', bcg_len_thres)"
      ],
      "metadata": {
        "id": "8Wnad1gbFRbt"
      },
      "execution_count": null,
      "outputs": []
    },
    {
      "cell_type": "code",
      "source": [
        "ecg_len_thres = 2457\n",
        "bcg_len_thres = 3932\n",
        "\n",
        "# select longer segments\n",
        "bcg_low = []\n",
        "bcg_hi = []\n",
        "ecg = []\n",
        "sub = []\n",
        "\n",
        "bcg_low_test = []\n",
        "bcg_hi_test = []\n",
        "ecg_test = []\n",
        "sub_test = []\n",
        "\n",
        "test_subjects = ['1003', '1009', '1010', '1016', '1020', '1022', '1023', '1026', '1032', '1034', '1038', '1042', '1045', '1049', '1052','1056','1061', '1065', '1070', '1075', '1078', '1082', '1089', '1092', '1094'] # 8 AFIB and 17 SR\n",
        "\n",
        "print(len(saved_dataset_paths),\"Saved Dataset Paths:\")\n",
        "print(saved_dataset_paths)\n",
        "\n",
        "for count, path in enumerate(saved_dataset_paths):\n",
        "    print('[INFO] Loading path:', path)\n",
        "    if count%2 == 0 and count!=0:\n",
        "        # Saving extracted segments\n",
        "        save_name = 'phase1_segments'+str(count)+'.pkl'\n",
        "        save_variables([bcg_low, bcg_hi, ecg, sub], save_name)\n",
        "        \n",
        "        # Saving extracted Train_Validation segments\n",
        "        save_name = 'phase1_test_segments.pkl'\n",
        "        save_variables([bcg_low_test, bcg_hi_test, ecg_test, sub_test], save_name)\n",
        "\n",
        "        bcg_low = []\n",
        "        bcg_hi = []\n",
        "        ecg = []\n",
        "        sub = []\n",
        "    #end if\n",
        "\n",
        "    # Getting back the objects:\n",
        "    phase1_clean_dict = load_variables(path)\n",
        "    phase1_clean_dict = phase1_clean_dict[0]\n",
        "\n",
        "    for subject in phase1_clean_dict.keys():\n",
        "        for i in range(len(phase1_clean_dict[subject]['ECG'])):\n",
        "            if subject in test_subjects:\n",
        "                if len(phase1_clean_dict[subject]['ECG'][i])>=ecg_len_thres and len(phase1_clean_dict[subject]['BCG_low'][i])>=bcg_len_thres and len(phase1_clean_dict[subject]['BCG_hi'][i])>=bcg_len_thres:\n",
        "                    bcg_low_test.append(phase1_clean_dict[subject]['BCG_low'][i][:bcg_len_thres])\n",
        "                    bcg_hi_test.append(phase1_clean_dict[subject]['BCG_hi'][i][:bcg_len_thres])\n",
        "                    ecg_test.append(phase1_clean_dict[subject]['ECG'][i][:ecg_len_thres])\n",
        "                    sub_test.append(subject)\n",
        "                #end if\n",
        "            else:\n",
        "                if len(phase1_clean_dict[subject]['ECG'][i])>=ecg_len_thres and len(phase1_clean_dict[subject]['BCG_low'][i])>=bcg_len_thres and len(phase1_clean_dict[subject]['BCG_hi'][i])>=bcg_len_thres:\n",
        "                    bcg_low.append(phase1_clean_dict[subject]['BCG_low'][i][:bcg_len_thres])\n",
        "                    bcg_hi.append(phase1_clean_dict[subject]['BCG_hi'][i][:bcg_len_thres])\n",
        "                    ecg.append(phase1_clean_dict[subject]['ECG'][i][:ecg_len_thres])\n",
        "                    sub.append(subject)\n",
        "                #end if\n",
        "            #end if\n",
        "        #end for\n",
        "    #end for\n",
        "    print('[INFO] Total number of Train_Validation segments:', len(ecg))\n",
        "#end for\n",
        "\n",
        "# Saving extracted Train_Validation segments\n",
        "save_name = 'phase1_segments'+str(count)+'.pkl'\n",
        "save_variables([bcg_low, bcg_hi, ecg, sub], save_name)\n",
        "\n",
        "# Saving extracted Train_Validation segments\n",
        "save_name = 'phase1_test_segments.pkl'\n",
        "save_variables([bcg_low_test, bcg_hi_test, ecg_test, sub_test], save_name)\n",
        "\n",
        "print('[INFO] Total number of Test segments:', len(ecg_test))"
      ],
      "metadata": {
        "id": "DdbFpT7nGA8S"
      },
      "execution_count": null,
      "outputs": []
    },
    {
      "cell_type": "markdown",
      "source": [
        "# AFib Detection using ECG"
      ],
      "metadata": {
        "id": "CmlEuxeWHM31"
      }
    },
    {
      "cell_type": "markdown",
      "source": [
        "## Loading Trained Model"
      ],
      "metadata": {
        "id": "IM7XqOrcHNke"
      }
    },
    {
      "cell_type": "code",
      "source": [
        "AFibModel = tf.keras.models.load_model(\n",
        "    filepath='/content/drive/MyDrive/Work/UTU Work/TYKS_Phase1/AFib_model_227_0.9799_0.9688.h5'\n",
        "    , custom_objects={'my_metric': my_metric}\n",
        ")"
      ],
      "metadata": {
        "id": "RQ1_o33THPf6"
      },
      "execution_count": null,
      "outputs": []
    },
    {
      "cell_type": "markdown",
      "source": [
        "## Evaluating"
      ],
      "metadata": {
        "id": "5pY0PvgtHZ3q"
      }
    },
    {
      "cell_type": "code",
      "source": [
        "# Changing Current Directory to Dataset Folder Path\n",
        "path = '/content/drive/MyDrive/Work/UTU Work/TYKS_Phase1/Saved Loaded Dataset/'\n",
        "\n",
        "saved_dataset_paths = finding_files_path(path=path, suffix='pkl', containing_word='dict', find_subject=False, verbose=True)\n",
        "\n",
        "print(saved_dataset_paths)"
      ],
      "metadata": {
        "colab": {
          "base_uri": "https://localhost:8080/"
        },
        "id": "YzBhgjp2HZD6",
        "outputId": "c5437916-50e6-4c6f-e131-43b6821c1f08"
      },
      "execution_count": 6,
      "outputs": [
        {
          "output_type": "stream",
          "name": "stdout",
          "text": [
            "[INFO] 10 pkl Paths\n",
            "['/content/drive/MyDrive/Work/UTU Work/TYKS_Phase1/Saved Loaded Dataset/phase1_dict_9.pkl', '/content/drive/MyDrive/Work/UTU Work/TYKS_Phase1/Saved Loaded Dataset/phase1_dict_19.pkl', '/content/drive/MyDrive/Work/UTU Work/TYKS_Phase1/Saved Loaded Dataset/phase1_dict_29.pkl', '/content/drive/MyDrive/Work/UTU Work/TYKS_Phase1/Saved Loaded Dataset/phase1_dict_39.pkl', '/content/drive/MyDrive/Work/UTU Work/TYKS_Phase1/Saved Loaded Dataset/phase1_dict_49.pkl', '/content/drive/MyDrive/Work/UTU Work/TYKS_Phase1/Saved Loaded Dataset/phase1_dict_59.pkl', '/content/drive/MyDrive/Work/UTU Work/TYKS_Phase1/Saved Loaded Dataset/phase1_dict_67.pkl', '/content/drive/MyDrive/Work/UTU Work/TYKS_Phase1/Saved Loaded Dataset/phase1_dict_79.pkl', '/content/drive/MyDrive/Work/UTU Work/TYKS_Phase1/Saved Loaded Dataset/phase1_dict_89.pkl', '/content/drive/MyDrive/Work/UTU Work/TYKS_Phase1/Saved Loaded Dataset/phase1_dict_93.pkl']\n"
          ]
        }
      ]
    },
    {
      "cell_type": "code",
      "source": [
        "output_dict = dict()\n",
        "\n",
        "for path in saved_dataset_paths:\n",
        "    print('[INFO] Loading path:', path)\n",
        "    # Loading the file:\n",
        "    phase1_clean_dict = load_variables(path)\n",
        "    phase1_clean_dict = phase1_clean_dict[0]\n",
        "    \n",
        "    for subject in phase1_clean_dict.keys():\n",
        "        SR_count = 0\n",
        "        AFIB_count = 0\n",
        "        fail_count = 0\n",
        "        segment_number = []\n",
        "        fail_segment_number = []\n",
        "        output = []\n",
        "\n",
        "        print('Subject',subject)\n",
        "        ecg = phase1_clean_dict[subject]['ECG']\n",
        "        print('Total number of segments is', len(ecg))\n",
        "        for i in range(len(ecg)):\n",
        "            if i%500==0:\n",
        "                print('Processing segment',i)\n",
        "            try:\n",
        "                fs = len(ecg[i])/( np.array(ecg[i])[-1,0] - np.array(ecg[i])[0,0] )\n",
        "                # print(fs)\n",
        "                eee = np.array(ecg[i])[:,1]\n",
        "                ecg_features = AFib_Model_Input_Features(eee, fs, plot=False)\n",
        "                ecg_features = np.expand_dims(np.array(ecg_features),axis=1)\n",
        "                yhat = AFibModel.predict(np.expand_dims(np.array(ecg_features),axis=0), verbose = 0)\n",
        "                output.append(yhat)\n",
        "\n",
        "                yhat[yhat>=0.5] = 1\n",
        "                yhat[yhat<0.5] = 0\n",
        "\n",
        "                if yhat==1:\n",
        "                    AFIB_count += 1 \n",
        "\n",
        "                elif yhat==0:\n",
        "                    SR_count += 1\n",
        "                #end if\n",
        "                segment_number.append(i)\n",
        "\n",
        "            except:\n",
        "                fail_count += 1\n",
        "                fail_segment_number.append(i)\n",
        "                # print('something went wrong on epoch',i) #probably in HRV_calc function\n",
        "        #end for\n",
        "        print('SR segments count',SR_count)\n",
        "        print('AFIB segments count',AFIB_count)\n",
        "        print('Fail segments count',fail_count)\n",
        "        print('Total segments count',SR_count+AFIB_count)\n",
        "        output_dict[subject] = {'output': output, 'AFIB_count': AFIB_count, 'SR_count': SR_count, 'fail_count': fail_count, 'segment_number': segment_number ,'fail_segment_number': fail_segment_number}\n",
        "    #end for\n",
        "#end for\n",
        "\n",
        "# Saving extracted segments\n",
        "save_name = 'output_dict.pkl'\n",
        "save_variables(output_dict, save_name)\n"
      ],
      "metadata": {
        "id": "dUjT_iUlHen5"
      },
      "execution_count": null,
      "outputs": []
    },
    {
      "cell_type": "code",
      "source": [
        "# testing different threshold values\n",
        "threshold = 0.5\n",
        "\n",
        "# Loading output_dict:\n",
        "path = 'output_dict.pkl'\n",
        "output_dict = load_variables(path)\n",
        "\n",
        "for subject in output_dict.keys():\n",
        "    SR_count = 0\n",
        "    AFIB_count = 0\n",
        "\n",
        "    print('Subject',subject)\n",
        "    yhat = output_dict[subject]['output']\n",
        "    # print(sum(yhat))\n",
        "    for i in range(len(yhat)):\n",
        "        # yhat[i] = yhat[i][0][0]\n",
        "        \n",
        "        if yhat[i]<=threshold:\n",
        "            yhat[i] = 0\n",
        "        elif yhat[i]>threshold:\n",
        "            yhat[i] = 1\n",
        "            # print('!!!!')\n",
        "\n",
        "    # yhat[yhat>threshold] = 1\n",
        "    # yhat[yhat<threshold] = 0\n",
        "\n",
        "    afib_count = yhat.count(1)\n",
        "    sr_count = yhat.count(0)\n",
        "\n",
        "    if sr_count+afib_count != 0:\n",
        "        print('SR segments count',sr_count ,'and', sr_count*100/(sr_count+afib_count), '% of all')\n",
        "        print('AFIB segments count',afib_count ,'and', afib_count*100/(sr_count+afib_count), '% of all')\n",
        "    print('Total segments count',sr_count+afib_count)\n",
        "    print('Total fail segments count',output_dict[subject]['fail_count'])\n",
        "\n",
        "    print(50*'*')\n",
        "#end for\n"
      ],
      "metadata": {
        "id": "UbUKuzcZIDwd"
      },
      "execution_count": null,
      "outputs": []
    },
    {
      "cell_type": "code",
      "source": [
        "# converting output dict to csv\n",
        "\n",
        "# Loading output_dict:\n",
        "path = 'output_dict.pkl'\n",
        "output_dict = load_variables(path)\n",
        "\n",
        "subs = []\n",
        "sr_count = []\n",
        "afib_count = []\n",
        "segment_number = []\n",
        "fail_count = []\n",
        "\n",
        "for subject in output_dict.keys():\n",
        "    subs.append(subject)\n",
        "    sr_count.append(output_dict[subject]['SR_count'])\n",
        "    afib_count.append(output_dict[subject]['AFIB_count'])\n",
        "    fail_count.append(output_dict[subject]['fail_count'])\n",
        "    segment_number.append(sr_count[-1]+afib_count[-1]+fail_count[-1])\n",
        "#end for\n",
        "\n",
        "mydict = {'Subjects': subs, 'AFIB_count': afib_count, 'SR_count': sr_count, 'fail_count': fail_count}\n",
        "\n",
        "my_df = pd.DataFrame.from_dict(mydict, orient='index')\n",
        "my_df.to_csv('output.csv')  "
      ],
      "metadata": {
        "id": "WqvRhhiuIYQE"
      },
      "execution_count": null,
      "outputs": []
    },
    {
      "cell_type": "markdown",
      "source": [
        "## Predicting"
      ],
      "metadata": {
        "id": "u6DIfUe6ICrm"
      }
    },
    {
      "cell_type": "code",
      "source": [
        "# testing AFib Model\n",
        "\n",
        "i = 6578\n",
        "fs = len(ecg[i])/( np.array(ecg[i])[-1,0] - np.array(ecg[i])[0,0] )\n",
        "print('Sampling Frequency is',fs)\n",
        "eee = np.array(ecg[i])[:,1]\n",
        "# eee = np.expand_dims(ecg,axis=1)\n",
        "ecg_features = AFib_Model_Input_Features(eee, fs, plot=True)\n",
        "ecg_features = np.expand_dims(np.array(ecg_features),axis=1)\n",
        "print(ecg_features.shape)\n",
        "\n",
        "yhat = AFibModel.predict(np.expand_dims(np.array(ecg_features),axis=0))\n",
        "yhat[yhat>=0.5] = 1\n",
        "yhat[yhat<0.5] = 0\n",
        "\n",
        "if yhat==1:\n",
        "  print('AFIB!')\n",
        "else:\n",
        "  print('SR')\n",
        "#end\n",
        "\n",
        "plt.plot(np.array(ecg[i])[:,1])\n",
        "confusion_matrix = metrics.confusion_matrix(ecg_features, yhat)\n",
        "cm_display = metrics.ConfusionMatrixDisplay(confusion_matrix = confusion_matrix, display_labels = ['SR', 'AFIB'])\n",
        "cm_display.plot()\n",
        "plt.show()"
      ],
      "metadata": {
        "id": "SygRm3mjIgsc"
      },
      "execution_count": null,
      "outputs": []
    },
    {
      "cell_type": "code",
      "source": [
        "path = '/content/drive/MyDrive/Work/UTU Work/TYKS_Phase1/Saved Loaded Dataset/'\n",
        "\n",
        "saved_dataset_paths = finding_files_path(path=path, suffix='pkl', containing_word='segments', find_subject=False, verbose=True)\n",
        "\n",
        "print(saved_dataset_paths)\n",
        "\n",
        "x_bcg_low = []\n",
        "x_bcg_hi = []\n",
        "x_sub = []\n",
        "afib = []\n",
        "x_ecg = []\n",
        "\n",
        "for count, path in enumerate(saved_dataset_paths):\n",
        "    print('[INFO] Loading path:', path)\n",
        "\n",
        "    x_bcg_low = []\n",
        "    x_bcg_hi = []\n",
        "    x_sub = []\n",
        "    afib = []\n",
        "    x_ecg = []\n",
        "\n",
        "    # Getting back the objects:\n",
        "    bcg_low, bcg_hi, ecg, sub = load_variables(path)\n",
        "\n",
        "    for i in range(len(ecg)):\n",
        "        if i%5000 == 0:\n",
        "            print('Epoch',i)\n",
        "        #end if\n",
        "\n",
        "        try:\n",
        "            fs = len(ecg[i])/( np.array(ecg[i])[-1,0] - np.array(ecg[i])[0,0] )\n",
        "            # print(fs)\n",
        "            eee = np.array(ecg[i])[:,1]\n",
        "            ecg_features = AFib_Model_Input_Features(eee, fs, plot=False)\n",
        "            ecg_features = np.expand_dims(np.array(ecg_features),axis=1)\n",
        "            yhat = AFibModel.predict(np.expand_dims(np.array(ecg_features),axis=0), verbose = 0)\n",
        "            yhat[yhat>=0.5] = 1\n",
        "            yhat[yhat<0.5] = 0\n",
        "\n",
        "            x_bcg_low.append(bcg_low[i])\n",
        "            x_bcg_hi.append(bcg_hi[i])\n",
        "            x_ecg.append(ecg[i])\n",
        "            x_sub.append(sub[i])\n",
        "\n",
        "            if yhat==1:\n",
        "                afib.append(1)\n",
        "            else:\n",
        "                afib.append(0)\n",
        "            #end if\n",
        "        except:\n",
        "            pass\n",
        "            # print('something went wrong on epoch',i) #probably in HRV_calc function\n",
        "    #end for\n",
        "\n",
        "    # Saving extracted segments\n",
        "    if 'test' in path:\n",
        "        save_name = 'bcg_afib_test_dataset.pkl'\n",
        "        save_variables([x_bcg_low, x_bcg_hi, x_ecg, afib, x_sub], save_name)\n",
        "\n",
        "    else:\n",
        "        save_name = 'bcg_afib_train_dataset'+str(count)+'.pkl'\n",
        "        save_variables([x_bcg_low, x_bcg_hi, x_ecg, afib, x_sub], save_name)\n",
        "    #end if\n",
        "\n",
        "    print('normal')\n",
        "    print(afib.count(0))\n",
        "\n",
        "    print('AFib')\n",
        "    print(afib.count(1))\n",
        "#end for\n"
      ],
      "metadata": {
        "id": "8_Lh70gfIzLH"
      },
      "execution_count": null,
      "outputs": []
    },
    {
      "cell_type": "markdown",
      "source": [
        "# Preprocessing"
      ],
      "metadata": {
        "id": "ZJq-is9yJmlK"
      }
    },
    {
      "cell_type": "markdown",
      "source": [
        "## Balancing"
      ],
      "metadata": {
        "id": "UV0G3DM5Jne9"
      }
    },
    {
      "cell_type": "code",
      "source": [
        "path = '/content/drive/MyDrive/Work/UTU Work/TYKS_Phase1/Saved Loaded Dataset/'\n",
        "\n",
        "saved_dataset_paths = finding_files_path(path=path, suffix='pkl', containing_word='afib', find_subject=False, verbose=True)\n",
        "\n",
        "print(saved_dataset_paths)"
      ],
      "metadata": {
        "colab": {
          "base_uri": "https://localhost:8080/"
        },
        "id": "jUgFVmZTJpP9",
        "outputId": "aa7d6cd0-ed28-45c2-9c34-3a476964dfdd"
      },
      "execution_count": 8,
      "outputs": [
        {
          "output_type": "stream",
          "name": "stdout",
          "text": [
            "[INFO] 6 pkl Paths\n",
            "['/content/drive/MyDrive/Work/UTU Work/TYKS_Phase1/Saved Loaded Dataset/bcg_afib_train_dataset0.pkl', '/content/drive/MyDrive/Work/UTU Work/TYKS_Phase1/Saved Loaded Dataset/bcg_afib_train_dataset1.pkl', '/content/drive/MyDrive/Work/UTU Work/TYKS_Phase1/Saved Loaded Dataset/bcg_afib_train_dataset2.pkl', '/content/drive/MyDrive/Work/UTU Work/TYKS_Phase1/Saved Loaded Dataset/bcg_afib_train_dataset3.pkl', '/content/drive/MyDrive/Work/UTU Work/TYKS_Phase1/Saved Loaded Dataset/bcg_afib_train_dataset4.pkl', '/content/drive/MyDrive/Work/UTU Work/TYKS_Phase1/Saved Loaded Dataset/bcg_afib_test_dataset.pkl']\n"
          ]
        }
      ]
    },
    {
      "cell_type": "code",
      "source": [
        "# Balancing Train Dataset\n",
        "x_bcg_low = []\n",
        "x_bcg_hi = []\n",
        "afib = []\n",
        "x_ecg = []\n",
        "x_sub = []\n",
        "\n",
        "for count, path in enumerate(saved_dataset_paths):\n",
        "    if 'train' in path:\n",
        "        print('[INFO] Loading path:', path)\n",
        "\n",
        "        # Getting back the objects:\n",
        "        bcg_low, bcg_hi, ecg, afib_label, sub = load_variables(path)\n",
        "\n",
        "        afib_count = 0\n",
        "\n",
        "        for i in range(len(bcg_low)):\n",
        "            if i%5000 == 0:\n",
        "                print('Epoch',i)\n",
        "            #end if\n",
        "\n",
        "            if afib_label[i] == 1:\n",
        "                afib.append(afib_label[i])\n",
        "                x_bcg_low.append(bcg_low[i])\n",
        "                x_bcg_hi.append(bcg_hi[i])\n",
        "                x_ecg.append(ecg[i])\n",
        "                x_sub.append(sub[i])\n",
        "                afib_count += 1\n",
        "                \n",
        "            #end if\n",
        "        #end for\n",
        "\n",
        "        normal_count = 0\n",
        "        sub_count = 0\n",
        "        current_sub = '0'\n",
        "\n",
        "        for i in range(len(bcg_low)):\n",
        "            if afib_label[i] == 0 and normal_count < afib_count:\n",
        "                \n",
        "                if sub[i] != current_sub:\n",
        "                    sub_count = 0  \n",
        "\n",
        "                current_sub = sub[i]\n",
        "\n",
        "                if sub_count < afib_count/len(set(sub)):\n",
        "                    afib.append(afib_label[i])\n",
        "                    x_bcg_low.append(bcg_low[i])\n",
        "                    x_bcg_hi.append(bcg_hi[i])\n",
        "                    x_ecg.append(ecg[i])\n",
        "                    x_sub.append(sub[i])\n",
        "                    normal_count += 1\n",
        "                    sub_count += 1\n",
        "                    \n",
        "            #end if\n",
        "        #end for\n",
        "\n",
        "        # Saving extracted segments\n",
        "        save_name = 'final_bcg_afib_train_dataset.pkl'\n",
        "        save_variables([x_bcg_low, x_bcg_hi, x_ecg, afib, x_sub], save_name)\n",
        "\n",
        "        print('normal')\n",
        "        print(afib.count(0))\n",
        "\n",
        "        print('AFib')\n",
        "        print(afib.count(1))\n",
        "#end for\n"
      ],
      "metadata": {
        "id": "iK8Mk7KMK6me"
      },
      "execution_count": null,
      "outputs": []
    },
    {
      "cell_type": "code",
      "source": [
        "# Balancing Test Dataset\n",
        "x_bcg_low = []\n",
        "x_bcg_hi = []\n",
        "afib = []\n",
        "x_ecg = []\n",
        "x_sub = []\n",
        "\n",
        "for count, path in enumerate(saved_dataset_paths):\n",
        "    if 'test' in path:\n",
        "        print('[INFO] Loading path:', path)\n",
        "\n",
        "        # Getting back the objects:\n",
        "        bcg_low, bcg_hi, ecg, afib_label, sub = load_variables(path)\n",
        "\n",
        "        afib_count = 0\n",
        "\n",
        "        for i in range(len(bcg_low)):\n",
        "            if i%5000 == 0:\n",
        "                print('Epoch',i)\n",
        "            #end if\n",
        "\n",
        "            if afib_label[i] == 1:\n",
        "                afib.append(afib_label[i])\n",
        "                x_bcg_low.append(bcg_low[i])\n",
        "                x_bcg_hi.append(bcg_hi[i])\n",
        "                x_ecg.append(ecg[i])\n",
        "                x_sub.append(sub[i])\n",
        "                afib_count += 1\n",
        "                \n",
        "            #end if\n",
        "        #end for\n",
        "\n",
        "        normal_count = 0\n",
        "        sub_count = 0\n",
        "        current_sub = '0'\n",
        "\n",
        "        for i in range(len(bcg_low)):\n",
        "            if afib_label[i] == 0 and normal_count < afib_count:\n",
        "                \n",
        "                if sub[i] != current_sub:\n",
        "                    sub_count = 0    \n",
        "                \n",
        "                current_sub = sub[i]\n",
        "\n",
        "                if sub_count < afib_count/len(set(sub)):\n",
        "                    afib.append(afib_label[i])\n",
        "                    x_bcg_low.append(bcg_low[i])\n",
        "                    x_bcg_hi.append(bcg_hi[i])\n",
        "                    x_ecg.append(ecg[i])\n",
        "                    x_sub.append(sub[i])\n",
        "                    normal_count += 1\n",
        "                    sub_count += 1\n",
        "                    \n",
        "            #end if\n",
        "        #end for\n",
        "\n",
        "        # Saving extracted segments\n",
        "        save_name = 'final_bcg_afib_test_dataset.pkl'\n",
        "        save_variables([x_bcg_low, x_bcg_hi, x_ecg, afib, x_sub], save_name)\n",
        "\n",
        "        print('normal')\n",
        "        print(afib.count(0))\n",
        "\n",
        "        print('AFib')\n",
        "        print(afib.count(1))\n",
        "#end for"
      ],
      "metadata": {
        "id": "iSQwwEMtLTll"
      },
      "execution_count": null,
      "outputs": []
    },
    {
      "cell_type": "markdown",
      "source": [
        "## Wavelet"
      ],
      "metadata": {
        "id": "4q3DGtOJLhFM"
      }
    },
    {
      "cell_type": "code",
      "source": [
        "# Loading Final Train Dataset\n",
        "# *** there is still time stamps attached to BCG and ECG signals ***\n",
        "\n",
        "path = '/content/drive/MyDrive/Work/UTU Work/TYKS_Phase1/final_bcg_afib_train_dataset.pkl'\n",
        "x_bcg_low, x_bcg_hi, x_ecg, afib, x_sub = load_variables(path)\n",
        "\n",
        "print('Train Dataset')\n",
        "print('normal')\n",
        "print(afib.count(0))\n",
        "\n",
        "print('AFib')\n",
        "print(afib.count(1))\n",
        "\n",
        "path = '/content/drive/MyDrive/Work/UTU Work/TYKS_Phase1/final_bcg_afib_test_dataset.pkl'\n",
        "x_bcg_low_test, x_bcg_hi_test, x_ecg_test, afib_test, x_sub_test = load_variables(path)\n",
        "\n",
        "print('Test Dataset')\n",
        "print('normal')\n",
        "print(afib_test.count(0))\n",
        "\n",
        "print('AFib')\n",
        "print(afib_test.count(1))"
      ],
      "metadata": {
        "colab": {
          "base_uri": "https://localhost:8080/"
        },
        "id": "NtK7PV8HLeoV",
        "outputId": "4105d371-3e50-40c5-fa46-ad3c4ad9b1bc"
      },
      "execution_count": 6,
      "outputs": [
        {
          "output_type": "stream",
          "name": "stdout",
          "text": [
            "Train Dataset\n",
            "normal\n",
            "11201\n",
            "AFib\n",
            "11709\n",
            "Test Dataset\n",
            "normal\n",
            "2301\n",
            "AFib\n",
            "2528\n"
          ]
        }
      ]
    },
    {
      "cell_type": "code",
      "source": [
        "# Removing timestamps from signals\n",
        "\n",
        "# Train Dataset\n",
        "x_bcg_low = removing_timestamps(x_bcg_low)\n",
        "x_bcg_hi = removing_timestamps(x_bcg_hi)\n",
        "\n",
        "# Test Dataset\n",
        "x_bcg_low_test = removing_timestamps(x_bcg_low_test)\n",
        "x_bcg_hi_test = removing_timestamps(x_bcg_hi_test)"
      ],
      "metadata": {
        "id": "byhVXCdRL86j"
      },
      "execution_count": 10,
      "outputs": []
    },
    {
      "cell_type": "code",
      "source": [
        "# import pywt\n",
        "# pywt.wavelist()"
      ],
      "metadata": {
        "id": "MAXbRHGrL-Bx"
      },
      "execution_count": 13,
      "outputs": []
    },
    {
      "cell_type": "code",
      "source": [
        "def wavelet_denoising(sig, wavelet_funcs, verbose=True):\n",
        "    from src.functions.preprocessing import filter_bank\n",
        "\n",
        "    wavelet_signal = []\n",
        "    temp = []\n",
        "\n",
        "    for wl in wavelet_funcs:\n",
        "        if verbose:\n",
        "            print('[INFO] using',wl,'Wavelet packet')\n",
        "        #end if verbose\n",
        "\n",
        "        if len(wavelet_signal)==0:\n",
        "            for i in range(len(sig)):\n",
        "                if i%5000==0 and verbose:\n",
        "                      print('   [INFO]',i,'segments were denoised')\n",
        "                #end if verbose\n",
        "                coeff=filter_bank(sig[i], wavefunc=wl, plot=False)\n",
        "                temp.append(np.sum(coeff, axis=0))\n",
        "            #end for\n",
        "            wavelet_signal = temp\n",
        "            temp = []\n",
        "\n",
        "            if verbose:\n",
        "                print('   [INFO]',i,'segments were denoised')\n",
        "            #end if verbose\n",
        "\n",
        "        else:\n",
        "            for i in range(len(sig)):\n",
        "                if i%5000==0 and verbose:\n",
        "                    print('   [INFO]',i,'segments were denoised')\n",
        "                #end ifverbose\n",
        "                coeff=filter_bank(sig[i], wavefunc=wl, plot=False)\n",
        "                wavelet_signal[i] = np.mean([wavelet_signal[i], np.sum(coeff, axis=0)], axis=0)\n",
        "            #end for\n",
        "\n",
        "            if verbose:\n",
        "                print('   [INFO]',i,'segments were denoised')\n",
        "            #end if verbose\n",
        "    #end for\n",
        "\n",
        "    return wavelet_signal\n",
        "#end wavelet_denoising"
      ],
      "metadata": {
        "id": "6cGfVRfYM-9w"
      },
      "execution_count": 12,
      "outputs": []
    },
    {
      "cell_type": "code",
      "source": [
        "# Denoising Train BCG hi signal using wavelet\n",
        "\n",
        "wavelet_funcs = ['db2', 'db5', 'db8', 'db11', 'db14', 'db17', 'db20', ]\n",
        "wavelet_signal = wavelet_denoising(sig=x_bcg_hi, wavelet_funcs=wavelet_funcs, verbose=True)\n",
        "\n",
        "# Saving extracted segments\n",
        "save_name = 'bcg_hi_wavelet_afib_train_dataset.pkl'\n",
        "save_variables([wavelet_signal, afib, x_sub], save_name)"
      ],
      "metadata": {
        "colab": {
          "base_uri": "https://localhost:8080/"
        },
        "id": "2ZSakvLFL_7J",
        "outputId": "4382d02f-0c73-4ab8-de1c-0bca81a33824"
      },
      "execution_count": 16,
      "outputs": [
        {
          "output_type": "stream",
          "name": "stdout",
          "text": [
            "[INFO] using db2 Wavelet packet\n",
            "   [INFO] 0 segments were denoised\n",
            "   [INFO] 5000 segments were denoised\n",
            "   [INFO] 10000 segments were denoised\n",
            "   [INFO] 15000 segments were denoised\n",
            "   [INFO] 20000 segments were denoised\n",
            "   [INFO] 22909 segments were denoised\n",
            "[INFO] using db5 Wavelet packet\n",
            "   [INFO] 0 segments were denoised\n",
            "   [INFO] 5000 segments were denoised\n",
            "   [INFO] 10000 segments were denoised\n",
            "   [INFO] 15000 segments were denoised\n",
            "   [INFO] 20000 segments were denoised\n",
            "   [INFO] 22909 segments were denoised\n",
            "[INFO] using db8 Wavelet packet\n",
            "   [INFO] 0 segments were denoised\n",
            "   [INFO] 5000 segments were denoised\n",
            "   [INFO] 10000 segments were denoised\n",
            "   [INFO] 15000 segments were denoised\n",
            "   [INFO] 20000 segments were denoised\n",
            "   [INFO] 22909 segments were denoised\n",
            "[INFO] using db11 Wavelet packet\n",
            "   [INFO] 0 segments were denoised\n",
            "   [INFO] 5000 segments were denoised\n",
            "   [INFO] 10000 segments were denoised\n",
            "   [INFO] 15000 segments were denoised\n",
            "   [INFO] 20000 segments were denoised\n",
            "   [INFO] 22909 segments were denoised\n",
            "[INFO] using db14 Wavelet packet\n",
            "   [INFO] 0 segments were denoised\n",
            "   [INFO] 5000 segments were denoised\n",
            "   [INFO] 10000 segments were denoised\n",
            "   [INFO] 15000 segments were denoised\n",
            "   [INFO] 20000 segments were denoised\n",
            "   [INFO] 22909 segments were denoised\n",
            "[INFO] using db17 Wavelet packet\n",
            "   [INFO] 0 segments were denoised\n",
            "   [INFO] 5000 segments were denoised\n",
            "   [INFO] 10000 segments were denoised\n",
            "   [INFO] 15000 segments were denoised\n",
            "   [INFO] 20000 segments were denoised\n",
            "   [INFO] 22909 segments were denoised\n",
            "[INFO] using db20 Wavelet packet\n",
            "   [INFO] 0 segments were denoised\n",
            "   [INFO] 5000 segments were denoised\n",
            "   [INFO] 10000 segments were denoised\n",
            "   [INFO] 15000 segments were denoised\n",
            "   [INFO] 20000 segments were denoised\n",
            "   [INFO] 22909 segments were denoised\n",
            "[INFO] variables saved to the path successfully\n",
            "   [INFO] in  bcg_hi_wavelet_afib_train_dataset.pkl\n"
          ]
        }
      ]
    },
    {
      "cell_type": "code",
      "source": [
        "print(len(x_bcg_hi_test))\n",
        "print(len(afib_test))"
      ],
      "metadata": {
        "colab": {
          "base_uri": "https://localhost:8080/"
        },
        "id": "DhztPApeiICJ",
        "outputId": "f6de4121-27f2-469c-9011-1083ac3c33ae"
      },
      "execution_count": 13,
      "outputs": [
        {
          "output_type": "stream",
          "name": "stdout",
          "text": [
            "4829\n",
            "4829\n"
          ]
        }
      ]
    },
    {
      "cell_type": "code",
      "source": [
        "# Denoising Test BCG hi signal using wavelet\n",
        "\n",
        "wavelet_funcs = ['db2', 'db5', 'db8', 'db11', 'db14', 'db17', 'db20', ]\n",
        "wavelet_signal_test = wavelet_denoising(sig=x_bcg_hi_test, wavelet_funcs=wavelet_funcs, verbose=True)\n",
        "\n",
        "# Saving extracted segments\n",
        "save_name = 'bcg_hi_wavelet_afib_test_dataset.pkl'\n",
        "save_variables([wavelet_signal_test, afib_test, x_sub_test], save_name)"
      ],
      "metadata": {
        "colab": {
          "base_uri": "https://localhost:8080/"
        },
        "id": "Oh0_zyR2gyYy",
        "outputId": "786bf14e-0105-450a-bd7f-49aa6e1305c7"
      },
      "execution_count": 14,
      "outputs": [
        {
          "output_type": "stream",
          "name": "stdout",
          "text": [
            "[INFO] using db2 Wavelet packet\n",
            "   [INFO] 0 segments were denoised\n",
            "   [INFO] 4828 segments were denoised\n",
            "[INFO] using db5 Wavelet packet\n",
            "   [INFO] 0 segments were denoised\n",
            "   [INFO] 4828 segments were denoised\n",
            "[INFO] using db8 Wavelet packet\n",
            "   [INFO] 0 segments were denoised\n",
            "   [INFO] 4828 segments were denoised\n",
            "[INFO] using db11 Wavelet packet\n",
            "   [INFO] 0 segments were denoised\n",
            "   [INFO] 4828 segments were denoised\n",
            "[INFO] using db14 Wavelet packet\n",
            "   [INFO] 0 segments were denoised\n",
            "   [INFO] 4828 segments were denoised\n",
            "[INFO] using db17 Wavelet packet\n",
            "   [INFO] 0 segments were denoised\n",
            "   [INFO] 4828 segments were denoised\n",
            "[INFO] using db20 Wavelet packet\n",
            "   [INFO] 0 segments were denoised\n",
            "   [INFO] 4828 segments were denoised\n",
            "[INFO] variables saved to the path successfully\n",
            "   [INFO] in  bcg_hi_wavelet_afib_test_dataset.pkl\n"
          ]
        }
      ]
    },
    {
      "cell_type": "code",
      "source": [
        "# Visualizing\n",
        "i=300 #600 670 681\n",
        "bcg = np.array(x_bcg_hi)[i]\n",
        "composite_signal = bcg\n",
        "\n",
        "fig, ax =  plt.subplots(1, 1, figsize=(10, 5))\n",
        "plt.plot(wavelet_signal[i], 'red')\n",
        "plt.title('Denoised using different Wavelet packets')\n",
        "\n",
        "coeff=filter_bank(composite_signal,plot=True)\n",
        "fig, ax =  plt.subplots(len(coeff), 1, figsize=(10, 20))\n",
        "for i in range(len(coeff)):\n",
        "    if i == 0:\n",
        "        ax[i].plot(coeff[i], label = 'cA[%.0f]'%(len(coeff)-i-1))\n",
        "        ax[i].legend(loc = 'best')\n",
        "    else:\n",
        "        ax[i].plot(coeff[i], label = 'cD[%.0f]'%(len(coeff)-i))\n",
        "        ax[i].legend(loc = 'best')"
      ],
      "metadata": {
        "id": "dea28QyBT_Vm"
      },
      "execution_count": null,
      "outputs": []
    },
    {
      "cell_type": "markdown",
      "source": [
        "## RMS Filtering"
      ],
      "metadata": {
        "id": "98od4Q68UY03"
      }
    },
    {
      "cell_type": "code",
      "source": [
        "# Loading Final Dataset\n",
        "import pickle\n",
        "\n",
        "path = '/content/drive/MyDrive/Work/UTU Work/TYKS_Phase1/bcg_hi_wavelet_afib_train_dataset.pkl'\n",
        "x_bcg_hi, afib, x_sub = load_variables(path)\n",
        "\n",
        "print('Train Dataset')\n",
        "print('normal')\n",
        "print(afib.count(0))\n",
        "\n",
        "print('AFib')\n",
        "print(afib.count(1))\n",
        "\n",
        "path = '/content/drive/MyDrive/Work/UTU Work/TYKS_Phase1/bcg_hi_wavelet_afib_test_dataset.pkl'\n",
        "x_bcg_hi_test, afib_test, x_sub_test = load_variables(path)\n",
        "\n",
        "print('Test Dataset')\n",
        "print('normal')\n",
        "print(afib_test.count(0))\n",
        "\n",
        "print('AFib')\n",
        "print(afib_test.count(1))"
      ],
      "metadata": {
        "colab": {
          "base_uri": "https://localhost:8080/"
        },
        "id": "e-dHNJkRUXBo",
        "outputId": "8eaca0d9-5505-4c6e-d4e3-c9d435a86606"
      },
      "execution_count": 6,
      "outputs": [
        {
          "output_type": "stream",
          "name": "stdout",
          "text": [
            "Train Dataset\n",
            "normal\n",
            "11201\n",
            "AFib\n",
            "11709\n",
            "Test Dataset\n",
            "normal\n",
            "2301\n",
            "AFib\n",
            "2528\n"
          ]
        }
      ]
    },
    {
      "cell_type": "code",
      "source": [
        "# Train\n",
        "s = []\n",
        "for i in range(len(x_bcg_hi)):\n",
        "    if i%2000 == 0:\n",
        "        print('[INFO]',i,'segments were filtered')\n",
        "    #end if\n",
        "    s.append(rolling_rms(x_bcg_hi[i],300))\n",
        "#end for\n",
        "print('[INFO]',i,'segments were filtered')\n",
        "\n",
        "# Test\n",
        "s_test = []\n",
        "for i in range(len(x_bcg_hi_test)):\n",
        "    if i%2000 == 0:\n",
        "        print('[INFO]',i,'segments were filtered')\n",
        "    #end if\n",
        "    s_test.append(rolling_rms(x_bcg_hi_test[i],300))\n",
        "#end for\n",
        "print('[INFO]',i,'segments were filtered')\n"
      ],
      "metadata": {
        "colab": {
          "base_uri": "https://localhost:8080/"
        },
        "id": "9as1p0bnU5fx",
        "outputId": "9808c32a-340a-4da5-dbe0-ab8a9e957e01"
      },
      "execution_count": 7,
      "outputs": [
        {
          "output_type": "stream",
          "name": "stdout",
          "text": [
            "[INFO] 0 segments were filtered\n",
            "[INFO] 2000 segments were filtered\n",
            "[INFO] 4000 segments were filtered\n",
            "[INFO] 6000 segments were filtered\n",
            "[INFO] 8000 segments were filtered\n",
            "[INFO] 10000 segments were filtered\n",
            "[INFO] 12000 segments were filtered\n",
            "[INFO] 14000 segments were filtered\n",
            "[INFO] 16000 segments were filtered\n",
            "[INFO] 18000 segments were filtered\n",
            "[INFO] 20000 segments were filtered\n",
            "[INFO] 22000 segments were filtered\n",
            "[INFO] 22909 segments were filtered\n",
            "[INFO] 0 segments were filtered\n",
            "[INFO] 2000 segments were filtered\n",
            "[INFO] 4000 segments were filtered\n",
            "[INFO] 4828 segments were filtered\n"
          ]
        }
      ]
    },
    {
      "cell_type": "code",
      "source": [
        "# Visualizing\n",
        "i = 6003\n",
        "fig, ax =  plt.subplots(1, 1, figsize=(15, 10))\n",
        "plt.plot(s[i])\n",
        "plt.plot(x_bcg_hi[i])"
      ],
      "metadata": {
        "colab": {
          "base_uri": "https://localhost:8080/",
          "height": 609
        },
        "id": "VvXujtn3VBAH",
        "outputId": "9ef643ff-0047-4b6c-d6e2-b374c766c757"
      },
      "execution_count": 8,
      "outputs": [
        {
          "output_type": "execute_result",
          "data": {
            "text/plain": [
              "[<matplotlib.lines.Line2D at 0x7f8ef1ca0730>]"
            ]
          },
          "metadata": {},
          "execution_count": 8
        },
        {
          "output_type": "display_data",
          "data": {
            "text/plain": [
              "<Figure size 1080x720 with 1 Axes>"
            ],
            "image/png": "[encoded data removed]"
          },
          "metadata": {
            "needs_background": "light"
          }
        }
      ]
    },
    {
      "cell_type": "markdown",
      "source": [
        "## Normalization"
      ],
      "metadata": {
        "id": "ThEw4rc9VGX_"
      }
    },
    {
      "cell_type": "code",
      "source": [
        "# Train\n",
        "min_max_scaler = preprocessing.MinMaxScaler()\n",
        "normalized_s = min_max_scaler.fit_transform(s)\n",
        "# normalized_s = preprocessing.normalize(s)\n",
        "# normalized_bcg_hi = min_max_scaler.fit_transform(x_bcg_hi)\n",
        "normalized_bcg_hi = preprocessing.normalize(x_bcg_hi)\n",
        "\n",
        "# Test\n",
        "min_max_scaler = preprocessing.MinMaxScaler()\n",
        "normalized_s_test = min_max_scaler.fit_transform(s_test)\n",
        "# normalized_s_test = preprocessing.normalize(s_test)\n",
        "normalized_bcg_hi_test = preprocessing.normalize(x_bcg_hi_test)"
      ],
      "metadata": {
        "id": "ZJao_vlwVHnO"
      },
      "execution_count": 9,
      "outputs": []
    },
    {
      "cell_type": "code",
      "source": [
        "# Visualizing\n",
        "i = 18130\n",
        "fig, ax =  plt.subplots(1, 1, figsize=(15, 10))\n",
        "plt.plot(normalized_s[i])\n",
        "plt.plot(normalized_bcg_hi[i])\n",
        "print('afib label is',afib[i])"
      ],
      "metadata": {
        "colab": {
          "base_uri": "https://localhost:8080/",
          "height": 609
        },
        "id": "ixnJXXX6VZqf",
        "outputId": "7a0f1bf4-6941-4b84-929d-d637d5b34f1b"
      },
      "execution_count": 10,
      "outputs": [
        {
          "output_type": "stream",
          "name": "stdout",
          "text": [
            "afib label is 0\n"
          ]
        },
        {
          "output_type": "display_data",
          "data": {
            "text/plain": [
              "<Figure size 1080x720 with 1 Axes>"
            ],
            "image/png": "[encoded data removed]"
          },
          "metadata": {
            "needs_background": "light"
          }
        }
      ]
    },
    {
      "cell_type": "markdown",
      "source": [
        "## Thresholding"
      ],
      "metadata": {
        "id": "Cza8y0noVcYi"
      }
    },
    {
      "cell_type": "code",
      "source": [
        "# Train\n",
        "valid_segments = []\n",
        "valid_segments_labels = []\n",
        "sub = []\n",
        "\n",
        "for i in range(len(normalized_bcg_hi)):\n",
        "    if i%2000 == 0:\n",
        "        print('[INFO]',i,'segments were thresholded')\n",
        "    #end if\n",
        "\n",
        "    upper_thres = len(normalized_s[i][normalized_s[i]>0.1]) #amount of filtered signal that has a amplitude of above 0.1 \n",
        "    lower_thres = len(normalized_s[i][normalized_s[i]<0.01])  #amount of filtered signal that has a amplitude of below 0.01 \n",
        "\n",
        "    if (upper_thres + lower_thres)/len(normalized_s[i]) < 0.30:\n",
        "        valid_segments.append(normalized_bcg_hi[i])\n",
        "        valid_segments_labels.append(afib[i])\n",
        "        sub.append(x_sub[i])\n",
        "    #end if\n",
        "#end for\n",
        "print('[INFO]',i,'segments were thresholded')\n",
        "print('Total number of valid segments is',len(valid_segments))\n",
        "\n",
        "# Test\n",
        "valid_segments_test = []\n",
        "valid_segments_labels_test = []\n",
        "sub_test = []\n",
        "\n",
        "for i in range(len(normalized_bcg_hi_test)):\n",
        "    if i%2000 == 0:\n",
        "        print('[INFO]',i,'segments were thresholded')\n",
        "    #end if\n",
        "\n",
        "    upper_thres = len(normalized_s_test[i][normalized_s_test[i]>0.1]) #amount of filtered signal that has a amplitude of above 0.1 \n",
        "    lower_thres = len(normalized_s_test[i][normalized_s_test[i]<0.01]) #amount of filtered signal that has a amplitude of below 0.01\n",
        "     \n",
        "    if (upper_thres + lower_thres)/len(normalized_s_test[i]) < 0.30:\n",
        "        valid_segments_test.append(normalized_bcg_hi_test[i])\n",
        "        valid_segments_labels_test.append(afib_test[i])\n",
        "        sub_test.append(x_sub_test[i])\n",
        "    #end if\n",
        "#end for\n",
        "print('[INFO]',i,'segments were thresholded')\n",
        "print('Total number of valid segments is',len(valid_segments_test))"
      ],
      "metadata": {
        "colab": {
          "base_uri": "https://localhost:8080/"
        },
        "id": "-dSCiqC_VdQe",
        "outputId": "d6fe661d-1660-41f9-dcf3-fa9734116701"
      },
      "execution_count": 11,
      "outputs": [
        {
          "output_type": "stream",
          "name": "stdout",
          "text": [
            "[INFO] 0 segments were thresholded\n",
            "[INFO] 2000 segments were thresholded\n",
            "[INFO] 4000 segments were thresholded\n",
            "[INFO] 6000 segments were thresholded\n",
            "[INFO] 8000 segments were thresholded\n",
            "[INFO] 10000 segments were thresholded\n",
            "[INFO] 12000 segments were thresholded\n",
            "[INFO] 14000 segments were thresholded\n",
            "[INFO] 16000 segments were thresholded\n",
            "[INFO] 18000 segments were thresholded\n",
            "[INFO] 20000 segments were thresholded\n",
            "[INFO] 22000 segments were thresholded\n",
            "[INFO] 22909 segments were thresholded\n",
            "Total number of valid segments is 16152\n",
            "[INFO] 0 segments were thresholded\n",
            "[INFO] 2000 segments were thresholded\n",
            "[INFO] 4000 segments were thresholded\n",
            "[INFO] 4828 segments were thresholded\n",
            "Total number of valid segments is 3381\n"
          ]
        }
      ]
    },
    {
      "cell_type": "markdown",
      "source": [
        "# AFib Detection using BCG"
      ],
      "metadata": {
        "id": "KbKiL0IZWcaB"
      }
    },
    {
      "cell_type": "markdown",
      "source": [
        "## Split Dataset into Train and Test sets"
      ],
      "metadata": {
        "id": "IFcw1xIOWeMi"
      }
    },
    {
      "cell_type": "markdown",
      "source": [
        "### Selected filtered segments"
      ],
      "metadata": {
        "id": "9v1oxOuTWhN9"
      }
    },
    {
      "cell_type": "code",
      "source": [
        "# split dataset into train, validation and test sets\n",
        "\n",
        "HIGH_X_train, HIGH_X_val, HIGH_Y_train, HIGH_Y_val = train_test_split(valid_segments, valid_segments_labels, test_size=0.1, random_state=7)\n",
        "\n",
        "HIGH_X_train = np.array(HIGH_X_train)\n",
        "HIGH_Y_train = np.array(HIGH_Y_train)\n",
        "HIGH_X_train = np.expand_dims(HIGH_X_train, 2)\n",
        "\n",
        "HIGH_X_val = np.array(HIGH_X_val)\n",
        "HIGH_Y_val = np.array(HIGH_Y_val)\n",
        "HIGH_X_val = np.expand_dims(HIGH_X_val, 2)\n",
        "\n",
        "HIGH_X_test  = np.array(valid_segments_test)\n",
        "HIGH_Y_test  = np.array(valid_segments_labels_test)\n",
        "HIGH_X_test = np.expand_dims(HIGH_X_test, 2)\n",
        "\n",
        "print('BCG-HIGH-filtered: train',HIGH_X_train.shape, ' val', HIGH_X_val.shape, ' test', HIGH_X_test.shape)\n",
        "\n",
        "print('Train Set:')\n",
        "print('normal ', np.count_nonzero(HIGH_Y_train == 0))\n",
        "print('AFib ', np.count_nonzero(HIGH_Y_train == 1))\n",
        "\n",
        "print('Validation Set:')\n",
        "print('normal ', np.count_nonzero(HIGH_Y_val == 0))\n",
        "print('AFib ', np.count_nonzero(HIGH_Y_val == 1))\n",
        "\n",
        "print('Test Set:')\n",
        "print('normal ', np.count_nonzero(HIGH_Y_test == 0))\n",
        "print('AFib ', np.count_nonzero(HIGH_Y_test == 1))"
      ],
      "metadata": {
        "colab": {
          "base_uri": "https://localhost:8080/"
        },
        "id": "yzcRzfxrWial",
        "outputId": "581f05dc-0b0b-4b2f-da6a-521ee006e9a1"
      },
      "execution_count": 12,
      "outputs": [
        {
          "output_type": "stream",
          "name": "stdout",
          "text": [
            "BCG-HIGH-filtered: train (14536, 3932, 1)  val (1616, 3932, 1)  test (3381, 3932, 1)\n",
            "Train Set:\n",
            "normal  6817\n",
            "AFib  7719\n",
            "Validation Set:\n",
            "normal  774\n",
            "AFib  842\n",
            "Test Set:\n",
            "normal  1509\n",
            "AFib  1872\n"
          ]
        }
      ]
    },
    {
      "cell_type": "markdown",
      "source": [
        "## Neural Network"
      ],
      "metadata": {
        "id": "mXP1TBu0W0yk"
      }
    },
    {
      "cell_type": "code",
      "source": [
        "model = create_model(input_shape=HIGH_X_train.shape[-2:], cnn_filters_number=32, activation_function=tf.keras.layers.ReLU(), dropout_ratio=0, summary_verbose=True, model_plot=True)"
      ],
      "metadata": {
        "colab": {
          "base_uri": "https://localhost:8080/"
        },
        "id": "FBCbfwJYW1kb",
        "outputId": "ca7d7569-32c8-4731-96ad-5dab02cbde27"
      },
      "execution_count": 14,
      "outputs": [
        {
          "output_type": "stream",
          "name": "stdout",
          "text": [
            "Model: \"LSTM_model\"\n",
            "_________________________________________________________________\n",
            " Layer (type)                Output Shape              Param #   \n",
            "=================================================================\n",
            " BCG (InputLayer)            [(None, 3932, 1)]         0         \n",
            "                                                                 \n",
            " CNN1 (Conv1D)               (None, 767, 32)           3232      \n",
            "                                                                 \n",
            " batch_normalization_9 (Batc  (None, 767, 32)          128       \n",
            " hNormalization)                                                 \n",
            "                                                                 \n",
            " activation_11 (Activation)  (None, 767, 32)           0         \n",
            "                                                                 \n",
            " CNN2 (Conv1D)               (None, 384, 64)           6208      \n",
            "                                                                 \n",
            " batch_normalization_10 (Bat  (None, 384, 64)          256       \n",
            " chNormalization)                                                \n",
            "                                                                 \n",
            " activation_12 (Activation)  (None, 384, 64)           0         \n",
            "                                                                 \n",
            " CNN3 (Conv1D)               (None, 384, 64)           12352     \n",
            "                                                                 \n",
            " activation_13 (Activation)  (None, 384, 64)           0         \n",
            "                                                                 \n",
            " CNN5 (Conv1D)               (None, 192, 128)          24704     \n",
            "                                                                 \n",
            " batch_normalization_12 (Bat  (None, 192, 128)         512       \n",
            " chNormalization)                                                \n",
            "                                                                 \n",
            " activation_14 (Activation)  (None, 192, 128)          0         \n",
            "                                                                 \n",
            " CNN6 (Conv1D)               (None, 192, 128)          49280     \n",
            "                                                                 \n",
            " activation_15 (Activation)  (None, 192, 128)          0         \n",
            "                                                                 \n",
            " CNN8 (Conv1D)               (None, 96, 256)           98560     \n",
            "                                                                 \n",
            " batch_normalization_14 (Bat  (None, 96, 256)          1024      \n",
            " chNormalization)                                                \n",
            "                                                                 \n",
            " activation_16 (Activation)  (None, 96, 256)           0         \n",
            "                                                                 \n",
            " CNN9 (Conv1D)               (None, 96, 256)           196864    \n",
            "                                                                 \n",
            " activation_17 (Activation)  (None, 96, 256)           0         \n",
            "                                                                 \n",
            " CNN11 (Conv1D)              (None, 48, 512)           393728    \n",
            "                                                                 \n",
            " batch_normalization_16 (Bat  (None, 48, 512)          2048      \n",
            " chNormalization)                                                \n",
            "                                                                 \n",
            " activation_18 (Activation)  (None, 48, 512)           0         \n",
            "                                                                 \n",
            " CNN12 (Conv1D)              (None, 48, 512)           786944    \n",
            "                                                                 \n",
            " activation_19 (Activation)  (None, 48, 512)           0         \n",
            "                                                                 \n",
            " global_average_pooling1d_1   (None, 512)              0         \n",
            " (GlobalAveragePooling1D)                                        \n",
            "                                                                 \n",
            " FC1 (Dense)                 (None, 128)               65664     \n",
            "                                                                 \n",
            " activation_20 (Activation)  (None, 128)               0         \n",
            "                                                                 \n",
            " FC3 (Dense)                 (None, 32)                4128      \n",
            "                                                                 \n",
            " activation_21 (Activation)  (None, 32)                0         \n",
            "                                                                 \n",
            " Output (Dense)              (None, 1)                 33        \n",
            "                                                                 \n",
            "=================================================================\n",
            "Total params: 1,645,665\n",
            "Trainable params: 1,643,681\n",
            "Non-trainable params: 1,984\n",
            "_________________________________________________________________\n"
          ]
        }
      ]
    },
    {
      "cell_type": "code",
      "source": [
        "# AFIB Model Parameters\n",
        "\n",
        "scheduler = cosine_learning_rate_scheduler(num_epoch=200, restart_number=30, start_lr=1e-3, lr_min=1e-5, cycle_limit=4, cycle_mul=2, cycle_decay=0.5, plot_status=True)\n",
        "def keras_scheduler(epoch):\n",
        "    return scheduler.get_epoch_values(epoch)[0]\n",
        "#end keras_scheduler\n",
        "\n",
        "# f1 = tfa.metrics.F1Score(num_classes=2,average='macro')\n",
        "accu = tf.keras.metrics.BinaryAccuracy(name='accuracy')\n",
        "precision = tf.keras.metrics.Precision(name='precision')\n",
        "recall = tf.keras.metrics.Recall(name='recall')\n",
        "auc = tf.keras.metrics.AUC(name='auc')\n",
        "\n",
        "starter_learning_rate = 0.001\n",
        "\n",
        "model.compile(\n",
        "    # loss = tf.keras.losses.BinaryCrossentropy(), \n",
        "    loss = tf.keras.losses.BinaryFocalCrossentropy(gamma=2.0, name='binary_focal_crossentropy',),\n",
        "\n",
        "    # optimizer=tf.keras.optimizers.RMSprop(learning_rate=starter_learning_rate),\n",
        "    optimizer=tf.keras.optimizers.Adam(),\n",
        "\n",
        "    metrics=[precision, recall, accu,  auc, my_metric], #my_metric_bcg_model\n",
        ")\n",
        "\n",
        "\n",
        "checkpoint1 = tf.keras.callbacks.ModelCheckpoint(filepath='model_{epoch:02d}_val_accuracy{val_accuracy:.4f}_val_precision{val_precision:.4f}_val_recall{val_recall:.4f}.h5', \n",
        "            monitor='val_my_metric', verbose=1, \n",
        "            save_best_only=True, mode='max')\n",
        "\n",
        "checkpoint2 = tf.keras.callbacks.LearningRateScheduler(keras_scheduler)\n",
        "\n",
        "callback = [checkpoint1,\n",
        "            checkpoint2\n",
        "            ]"
      ],
      "metadata": {
        "colab": {
          "base_uri": "https://localhost:8080/",
          "height": 607
        },
        "id": "DZ3ny2z8YtYv",
        "outputId": "99e2aa74-3de9-4c23-b6b0-619b81b7a108"
      },
      "execution_count": 19,
      "outputs": [
        {
          "output_type": "display_data",
          "data": {
            "text/plain": [
              "<Figure size 1080x720 with 1 Axes>"
            ],
            "image/png": "[encoded data removed]"
          },
          "metadata": {
            "needs_background": "light"
          }
        }
      ]
    },
    {
      "cell_type": "code",
      "source": [
        "# Training Model\n",
        "h = model.fit(x={\"BCG\": HIGH_X_train}, \n",
        "              y=HIGH_Y_train, \n",
        "              validation_data=( {\"BCG\": HIGH_X_val}, HIGH_Y_val ), \n",
        "              batch_size=256, #8192, \n",
        "              epochs=200, \n",
        "              callbacks=callback\n",
        "              )"
      ],
      "metadata": {
        "id": "lVGOxkVDY0uZ"
      },
      "execution_count": null,
      "outputs": []
    },
    {
      "cell_type": "markdown",
      "source": [
        "## Plot\n"
      ],
      "metadata": {
        "id": "Rt93vskjY5Om"
      }
    },
    {
      "cell_type": "code",
      "source": [
        "# Visualization\n",
        "history = h.history\n",
        "Train_acc = history[\"accuracy\"]\n",
        "Val_acc = history[\"val_accuracy\"]\n",
        "\n",
        "Train_loss = history[\"loss\"]\n",
        "Val_loss = history[\"val_loss\"]\n",
        "\n",
        "Train_recall = history[\"recall\"]\n",
        "Val_recall = history[\"val_recall\"]\n",
        "\n",
        "\n",
        "fig1 = plt.figure(figsize = [12,8])\n",
        "plt.plot(Train_acc, label='Train accuracy')\n",
        "plt.plot(Val_acc, label='Val accuracy')\n",
        "\n",
        "plt.plot(Train_recall, label='Train recall')\n",
        "plt.plot(Val_recall, label='Val recall')\n",
        "\n",
        "plt.plot(Train_loss, label='Train loss')\n",
        "plt.plot(Val_loss, label='Val loss')\n",
        "\n",
        "plt.xlabel(\"Epoch\")\n",
        "plt.ylabel(\"Recall/Loss\")\n",
        "plt.legend()\n",
        "plt.title('Trained Model Recall/Loss')\n",
        "plt.show()"
      ],
      "metadata": {
        "id": "rZCSdtz6Y7UE"
      },
      "execution_count": null,
      "outputs": []
    },
    {
      "cell_type": "markdown",
      "source": [
        "# Testing"
      ],
      "metadata": {
        "id": "kcR-VUpEY94E"
      }
    },
    {
      "cell_type": "code",
      "source": [
        "# Loading AFib Trained Models\n",
        "files = ['model_28_0.7968_0.7293_0.9123.h5',\n",
        "         'model_100_0.8179_0.7824_0.8560.h5',\n",
        "         'model_68_0.8198_0.7850_0.8566.h5',\n",
        "         'model_60_val_accuracy0.6581_val_precision0.6255_val_recall0.9033.h5',\n",
        "         'model_59_val_accuracy0.6888_val_precision0.6613_val_recall0.8601.h5',\n",
        "         'model_131_val_accuracy0.6894_val_precision0.6619_val_recall0.8601.h5',\n",
        "         ]\n",
        "model = tf.keras.models.load_model(\n",
        "    filepath=files[0]\n",
        "    , custom_objects={'my_metric': my_metric}\n",
        ")\n",
        "\n",
        "# Evaluating the model on the test data\n",
        "print(\"Evaluate on test data\")\n",
        "results = model.evaluate(x={\"BCG\": HIGH_X_test}, y=HIGH_Y_test, batch_size=512)\n",
        "print(\"test loss, test precision, test recall, test accuracy, test auc, test my_metric:\")\n",
        "print(results)"
      ],
      "metadata": {
        "colab": {
          "base_uri": "https://localhost:8080/"
        },
        "id": "ZA5zDDuUY-i0",
        "outputId": "8c5b7845-59e5-408d-89a7-24f2bf2b5d06"
      },
      "execution_count": 21,
      "outputs": [
        {
          "output_type": "stream",
          "name": "stdout",
          "text": [
            "Evaluate on test data\n",
            "7/7 [==============================] - 16s 2s/step - loss: 0.5303 - precision: 0.5847 - recall: 0.8851 - accuracy: 0.5883 - auc: 0.6408 - my_metric: 0.4763\n",
            "test loss, test precision, test recall, test accuracy, test auc, test my_metric:\n",
            "[0.5303244590759277, 0.5846859812736511, 0.8851495981216431, 0.5882874727249146, 0.6407555341720581, 0.47634413838386536]\n"
          ]
        }
      ]
    }
  ]
}